{
 "cells": [
  {
   "cell_type": "code",
   "execution_count": 1,
   "metadata": {},
   "outputs": [],
   "source": [
    "using DataFrames\n",
    "using CSV\n",
    "#using RCall\n",
    "#using Queryverse"
   ]
  },
  {
   "cell_type": "code",
   "execution_count": 2,
   "metadata": {},
   "outputs": [],
   "source": [
    "data = CSV.read(\"data/top30data.csv\");"
   ]
  },
  {
   "cell_type": "code",
   "execution_count": 3,
   "metadata": {},
   "outputs": [
    {
     "data": {
      "text/plain": [
       "(3726396, 29)"
      ]
     },
     "execution_count": 3,
     "metadata": {},
     "output_type": "execute_result"
    }
   ],
   "source": [
    "size(data) # this should be (7736076, 29) for the full dataset, or (3726396, 29) for the top30 dataset"
   ]
  },
  {
   "cell_type": "code",
   "execution_count": 4,
   "metadata": {},
   "outputs": [
    {
     "data": {
      "text/html": [
       "<table class=\"data-frame\"><thead><tr><th></th><th>YEAR</th><th>MONTH</th><th>DAY_OF_MONTH</th><th>DAY_OF_WEEK</th><th>FL_DATE</th><th>OP_UNIQUE_CARRIER</th><th>TAIL_NUM</th><th>OP_CARRIER_FL_NUM</th><th>ORIGIN</th><th>DEST</th><th>CRS_DEP_TIME</th><th>DEP_TIME</th><th>DEP_DELAY</th><th>TAXI_OUT</th><th>TAXI_IN</th><th>CRS_ARR_TIME</th><th>ARR_TIME</th><th>ARR_DELAY</th><th>CANCELLED</th><th>CANCELLATION_CODE</th><th>DIVERTED</th><th>CRS_ELAPSED_TIME</th><th>ACTUAL_ELAPSED_TIME</th><th>AIR_TIME</th><th>CARRIER_DELAY</th><th>WEATHER_DELAY</th><th>NAS_DELAY</th><th>SECURITY_DELAY</th><th>LATE_AIRCRAFT_DELAY</th></tr><tr><th></th><th>Int64⍰</th><th>Int64⍰</th><th>Int64⍰</th><th>Int64⍰</th><th>Dates…⍰</th><th>String⍰</th><th>String⍰</th><th>Int64⍰</th><th>String⍰</th><th>String⍰</th><th>Int64⍰</th><th>Float64⍰</th><th>Float64⍰</th><th>Float64⍰</th><th>Float64⍰</th><th>Int64⍰</th><th>Float64⍰</th><th>Float64⍰</th><th>Float64⍰</th><th>String⍰</th><th>Float64⍰</th><th>Float64⍰</th><th>Float64⍰</th><th>Float64⍰</th><th>Float64⍰</th><th>Float64⍰</th><th>Float64⍰</th><th>Float64⍰</th><th>Float64⍰</th></tr></thead><tbody><tr><th>1</th><td>2017</td><td>9</td><td>5</td><td>2</td><td>2017-09-05</td><td>UA</td><td>N73445</td><td>1916</td><td>IAH</td><td>SAN</td><td>1830</td><td>1827.0</td><td>-3.0</td><td>12.0</td><td>2.0</td><td>1943</td><td>1922.0</td><td>-21.0</td><td>0.0</td><td>missing</td><td>0.0</td><td>193.0</td><td>175.0</td><td>161.0</td><td>missing</td><td>missing</td><td>missing</td><td>missing</td><td>missing</td></tr><tr><th>2</th><td>2017</td><td>9</td><td>5</td><td>2</td><td>2017-09-05</td><td>UA</td><td>N418UA</td><td>1916</td><td>LAS</td><td>IAH</td><td>1125</td><td>1144.0</td><td>19.0</td><td>15.0</td><td>4.0</td><td>1634</td><td>1633.0</td><td>-1.0</td><td>0.0</td><td>missing</td><td>0.0</td><td>189.0</td><td>169.0</td><td>150.0</td><td>missing</td><td>missing</td><td>missing</td><td>missing</td><td>missing</td></tr><tr><th>3</th><td>2017</td><td>9</td><td>5</td><td>2</td><td>2017-09-05</td><td>UA</td><td>N489UA</td><td>1917</td><td>DEN</td><td>TUL</td><td>2003</td><td>2001.0</td><td>-2.0</td><td>14.0</td><td>6.0</td><td>2248</td><td>2232.0</td><td>-16.0</td><td>0.0</td><td>missing</td><td>0.0</td><td>105.0</td><td>91.0</td><td>71.0</td><td>missing</td><td>missing</td><td>missing</td><td>missing</td><td>missing</td></tr><tr><th>4</th><td>2017</td><td>9</td><td>5</td><td>2</td><td>2017-09-05</td><td>UA</td><td>N12218</td><td>1917</td><td>MSP</td><td>DEN</td><td>1640</td><td>1638.0</td><td>-2.0</td><td>18.0</td><td>7.0</td><td>1756</td><td>1740.0</td><td>-16.0</td><td>0.0</td><td>missing</td><td>0.0</td><td>136.0</td><td>122.0</td><td>97.0</td><td>missing</td><td>missing</td><td>missing</td><td>missing</td><td>missing</td></tr><tr><th>5</th><td>2017</td><td>9</td><td>5</td><td>2</td><td>2017-09-05</td><td>UA</td><td>N412UA</td><td>1918</td><td>DEN</td><td>BZN</td><td>1520</td><td>1516.0</td><td>-4.0</td><td>8.0</td><td>4.0</td><td>1703</td><td>1643.0</td><td>-20.0</td><td>0.0</td><td>missing</td><td>0.0</td><td>103.0</td><td>87.0</td><td>75.0</td><td>missing</td><td>missing</td><td>missing</td><td>missing</td><td>missing</td></tr><tr><th>6</th><td>2017</td><td>9</td><td>5</td><td>2</td><td>2017-09-05</td><td>UA</td><td>N27722</td><td>1922</td><td>EWR</td><td>BOS</td><td>1705</td><td>1659.0</td><td>-6.0</td><td>87.0</td><td>6.0</td><td>1826</td><td>1916.0</td><td>50.0</td><td>0.0</td><td>missing</td><td>0.0</td><td>81.0</td><td>137.0</td><td>44.0</td><td>0.0</td><td>0.0</td><td>50.0</td><td>0.0</td><td>0.0</td></tr></tbody></table>"
      ],
      "text/latex": [
       "\\begin{tabular}{r|ccccccccccccccccccccccccccccc}\n",
       "\t& YEAR & MONTH & DAY\\_OF\\_MONTH & DAY\\_OF\\_WEEK & FL\\_DATE & OP\\_UNIQUE\\_CARRIER & TAIL\\_NUM & OP\\_CARRIER\\_FL\\_NUM & ORIGIN & DEST & CRS\\_DEP\\_TIME & DEP\\_TIME & DEP\\_DELAY & TAXI\\_OUT & TAXI\\_IN & CRS\\_ARR\\_TIME & ARR\\_TIME & ARR\\_DELAY & CANCELLED & CANCELLATION\\_CODE & DIVERTED & CRS\\_ELAPSED\\_TIME & ACTUAL\\_ELAPSED\\_TIME & AIR\\_TIME & CARRIER\\_DELAY & WEATHER\\_DELAY & NAS\\_DELAY & SECURITY\\_DELAY & LATE\\_AIRCRAFT\\_DELAY\\\\\n",
       "\t\\hline\n",
       "\t1 & 2017 & 9 & 5 & 2 & 2017-09-05 & UA & N73445 & 1916 & IAH & SAN & 1830 & 1827.0 & -3.0 & 12.0 & 2.0 & 1943 & 1922.0 & -21.0 & 0.0 &  & 0.0 & 193.0 & 175.0 & 161.0 &  &  &  &  &  \\\\\n",
       "\t2 & 2017 & 9 & 5 & 2 & 2017-09-05 & UA & N418UA & 1916 & LAS & IAH & 1125 & 1144.0 & 19.0 & 15.0 & 4.0 & 1634 & 1633.0 & -1.0 & 0.0 &  & 0.0 & 189.0 & 169.0 & 150.0 &  &  &  &  &  \\\\\n",
       "\t3 & 2017 & 9 & 5 & 2 & 2017-09-05 & UA & N489UA & 1917 & DEN & TUL & 2003 & 2001.0 & -2.0 & 14.0 & 6.0 & 2248 & 2232.0 & -16.0 & 0.0 &  & 0.0 & 105.0 & 91.0 & 71.0 &  &  &  &  &  \\\\\n",
       "\t4 & 2017 & 9 & 5 & 2 & 2017-09-05 & UA & N12218 & 1917 & MSP & DEN & 1640 & 1638.0 & -2.0 & 18.0 & 7.0 & 1756 & 1740.0 & -16.0 & 0.0 &  & 0.0 & 136.0 & 122.0 & 97.0 &  &  &  &  &  \\\\\n",
       "\t5 & 2017 & 9 & 5 & 2 & 2017-09-05 & UA & N412UA & 1918 & DEN & BZN & 1520 & 1516.0 & -4.0 & 8.0 & 4.0 & 1703 & 1643.0 & -20.0 & 0.0 &  & 0.0 & 103.0 & 87.0 & 75.0 &  &  &  &  &  \\\\\n",
       "\t6 & 2017 & 9 & 5 & 2 & 2017-09-05 & UA & N27722 & 1922 & EWR & BOS & 1705 & 1659.0 & -6.0 & 87.0 & 6.0 & 1826 & 1916.0 & 50.0 & 0.0 &  & 0.0 & 81.0 & 137.0 & 44.0 & 0.0 & 0.0 & 50.0 & 0.0 & 0.0 \\\\\n",
       "\\end{tabular}\n"
      ],
      "text/plain": [
       "6×29 DataFrame. Omitted printing of 24 columns\n",
       "│ Row │ YEAR   │ MONTH  │ DAY_OF_MONTH │ DAY_OF_WEEK │ FL_DATE    │\n",
       "│     │ \u001b[90mInt64⍰\u001b[39m │ \u001b[90mInt64⍰\u001b[39m │ \u001b[90mInt64⍰\u001b[39m       │ \u001b[90mInt64⍰\u001b[39m      │ \u001b[90mDates…⍰\u001b[39m    │\n",
       "├─────┼────────┼────────┼──────────────┼─────────────┼────────────┤\n",
       "│ 1   │ 2017   │ 9      │ 5            │ 2           │ 2017-09-05 │\n",
       "│ 2   │ 2017   │ 9      │ 5            │ 2           │ 2017-09-05 │\n",
       "│ 3   │ 2017   │ 9      │ 5            │ 2           │ 2017-09-05 │\n",
       "│ 4   │ 2017   │ 9      │ 5            │ 2           │ 2017-09-05 │\n",
       "│ 5   │ 2017   │ 9      │ 5            │ 2           │ 2017-09-05 │\n",
       "│ 6   │ 2017   │ 9      │ 5            │ 2           │ 2017-09-05 │"
      ]
     },
     "execution_count": 4,
     "metadata": {},
     "output_type": "execute_result"
    }
   ],
   "source": [
    "head(data)"
   ]
  },
  {
   "cell_type": "code",
   "execution_count": 5,
   "metadata": {},
   "outputs": [],
   "source": [
    "for i in names(data)[11:19]\n",
    "    data[i] = convert(Array{Union{Missing, Int64},1},data[i])\n",
    "end\n",
    "for i in names(data)[21:29]\n",
    "    data[i] = convert(Array{Union{Missing, Int64},1},data[i])\n",
    "end"
   ]
  },
  {
   "cell_type": "code",
   "execution_count": 6,
   "metadata": {},
   "outputs": [],
   "source": [
    "delete!(data,[:TAXI_OUT,:TAXI_IN]);"
   ]
  },
  {
   "cell_type": "code",
   "execution_count": 7,
   "metadata": {},
   "outputs": [
    {
     "data": {
      "text/plain": [
       "(3726396, 27)"
      ]
     },
     "execution_count": 7,
     "metadata": {},
     "output_type": "execute_result"
    }
   ],
   "source": [
    "size(data)"
   ]
  },
  {
   "cell_type": "code",
   "execution_count": 8,
   "metadata": {},
   "outputs": [
    {
     "data": {
      "text/html": [
       "<table class=\"data-frame\"><thead><tr><th></th><th>variable</th><th>mean</th><th>min</th><th>median</th><th>max</th><th>nunique</th><th>nmissing</th><th>eltype</th></tr><tr><th></th><th>Symbol</th><th>Union…</th><th>Any</th><th>Union…</th><th>Any</th><th>Union…</th><th>Int64</th><th>DataType</th></tr></thead><tbody><tr><th>1</th><td>YEAR</td><td>2017.0</td><td>2017</td><td>2017.0</td><td>2017</td><td></td><td>0</td><td>Int64</td></tr><tr><th>2</th><td>MONTH</td><td>9.0</td><td>9</td><td>9.0</td><td>9</td><td></td><td>0</td><td>Int64</td></tr><tr><th>3</th><td>DAY_OF_MONTH</td><td>15.6199</td><td>1</td><td>16.0</td><td>30</td><td></td><td>0</td><td>Int64</td></tr><tr><th>4</th><td>DAY_OF_WEEK</td><td>4.00846</td><td>1</td><td>4.0</td><td>7</td><td></td><td>0</td><td>Int64</td></tr><tr><th>5</th><td>FL_DATE</td><td></td><td>2017-09-01</td><td></td><td>2017-09-30</td><td>30</td><td>0</td><td>Date</td></tr><tr><th>6</th><td>OP_UNIQUE_CARRIER</td><td></td><td>AA</td><td></td><td>WN</td><td>12</td><td>0</td><td>String</td></tr><tr><th>7</th><td>TAIL_NUM</td><td></td><td>N001AA</td><td></td><td>N999DN</td><td>4398</td><td>42480</td><td>String</td></tr><tr><th>8</th><td>OP_CARRIER_FL_NUM</td><td>1966.28</td><td>1</td><td>1569.0</td><td>7439</td><td></td><td>0</td><td>Int64</td></tr><tr><th>9</th><td>ORIGIN</td><td></td><td>ATL</td><td></td><td>TPA</td><td>30</td><td>0</td><td>String</td></tr><tr><th>10</th><td>DEST</td><td></td><td>ABE</td><td></td><td>YUM</td><td>280</td><td>0</td><td>String</td></tr><tr><th>11</th><td>CRS_DEP_TIME</td><td>1363.83</td><td>1</td><td>1343.0</td><td>2359</td><td></td><td>0</td><td>Int64</td></tr><tr><th>12</th><td>DEP_TIME</td><td>1364.18</td><td>1</td><td>1344.0</td><td>2400</td><td></td><td>126444</td><td>Int64</td></tr><tr><th>13</th><td>DEP_DELAY</td><td>5.59833</td><td>-234</td><td>-3.0</td><td>1427</td><td></td><td>126456</td><td>Int64</td></tr><tr><th>14</th><td>CRS_ARR_TIME</td><td>1530.64</td><td>1</td><td>1550.0</td><td>2359</td><td></td><td>0</td><td>Int64</td></tr><tr><th>15</th><td>ARR_TIME</td><td>1511.49</td><td>1</td><td>1541.0</td><td>2400</td><td></td><td>128172</td><td>Int64</td></tr><tr><th>16</th><td>ARR_DELAY</td><td>-0.610325</td><td>-238</td><td>-8.0</td><td>1401</td><td></td><td>133404</td><td>Int64</td></tr><tr><th>17</th><td>CANCELLED</td><td>0.0341574</td><td>0</td><td>0.0</td><td>1</td><td></td><td>0</td><td>Int64</td></tr><tr><th>18</th><td>CANCELLATION_CODE</td><td></td><td>A</td><td></td><td>C</td><td>3</td><td>3599112</td><td>String</td></tr><tr><th>19</th><td>DIVERTED</td><td>0.00164234</td><td>0</td><td>0.0</td><td>1</td><td></td><td>0</td><td>Int64</td></tr><tr><th>20</th><td>CRS_ELAPSED_TIME</td><td>156.587</td><td>38</td><td>139.0</td><td>655</td><td></td><td>0</td><td>Int64</td></tr><tr><th>21</th><td>ACTUAL_ELAPSED_TIME</td><td>150.252</td><td>28</td><td>131.0</td><td>700</td><td></td><td>133404</td><td>Int64</td></tr><tr><th>22</th><td>AIR_TIME</td><td>125.108</td><td>12</td><td>106.0</td><td>640</td><td></td><td>133404</td><td>Int64</td></tr><tr><th>23</th><td>CARRIER_DELAY</td><td>19.6409</td><td>0</td><td>1.0</td><td>1401</td><td></td><td>3226536</td><td>Int64</td></tr><tr><th>24</th><td>WEATHER_DELAY</td><td>2.57729</td><td>0</td><td>0.0</td><td>1023</td><td></td><td>3226536</td><td>Int64</td></tr><tr><th>25</th><td>NAS_DELAY</td><td>15.1089</td><td>0</td><td>3.0</td><td>995</td><td></td><td>3226536</td><td>Int64</td></tr><tr><th>26</th><td>SECURITY_DELAY</td><td>0.0808066</td><td>0</td><td>0.0</td><td>123</td><td></td><td>3226536</td><td>Int64</td></tr><tr><th>27</th><td>LATE_AIRCRAFT_DELAY</td><td>20.1976</td><td>0</td><td>0.0</td><td>1060</td><td></td><td>3226536</td><td>Int64</td></tr></tbody></table>"
      ],
      "text/latex": [
       "\\begin{tabular}{r|cccccccc}\n",
       "\t& variable & mean & min & median & max & nunique & nmissing & eltype\\\\\n",
       "\t\\hline\n",
       "\t1 & YEAR & 2017.0 & 2017 & 2017.0 & 2017 &  & 0 & Int64 \\\\\n",
       "\t2 & MONTH & 9.0 & 9 & 9.0 & 9 &  & 0 & Int64 \\\\\n",
       "\t3 & DAY\\_OF\\_MONTH & 15.6199 & 1 & 16.0 & 30 &  & 0 & Int64 \\\\\n",
       "\t4 & DAY\\_OF\\_WEEK & 4.00846 & 1 & 4.0 & 7 &  & 0 & Int64 \\\\\n",
       "\t5 & FL\\_DATE &  & 2017-09-01 &  & 2017-09-30 & 30 & 0 & Date \\\\\n",
       "\t6 & OP\\_UNIQUE\\_CARRIER &  & AA &  & WN & 12 & 0 & String \\\\\n",
       "\t7 & TAIL\\_NUM &  & N001AA &  & N999DN & 4398 & 42480 & String \\\\\n",
       "\t8 & OP\\_CARRIER\\_FL\\_NUM & 1966.28 & 1 & 1569.0 & 7439 &  & 0 & Int64 \\\\\n",
       "\t9 & ORIGIN &  & ATL &  & TPA & 30 & 0 & String \\\\\n",
       "\t10 & DEST &  & ABE &  & YUM & 280 & 0 & String \\\\\n",
       "\t11 & CRS\\_DEP\\_TIME & 1363.83 & 1 & 1343.0 & 2359 &  & 0 & Int64 \\\\\n",
       "\t12 & DEP\\_TIME & 1364.18 & 1 & 1344.0 & 2400 &  & 126444 & Int64 \\\\\n",
       "\t13 & DEP\\_DELAY & 5.59833 & -234 & -3.0 & 1427 &  & 126456 & Int64 \\\\\n",
       "\t14 & CRS\\_ARR\\_TIME & 1530.64 & 1 & 1550.0 & 2359 &  & 0 & Int64 \\\\\n",
       "\t15 & ARR\\_TIME & 1511.49 & 1 & 1541.0 & 2400 &  & 128172 & Int64 \\\\\n",
       "\t16 & ARR\\_DELAY & -0.610325 & -238 & -8.0 & 1401 &  & 133404 & Int64 \\\\\n",
       "\t17 & CANCELLED & 0.0341574 & 0 & 0.0 & 1 &  & 0 & Int64 \\\\\n",
       "\t18 & CANCELLATION\\_CODE &  & A &  & C & 3 & 3599112 & String \\\\\n",
       "\t19 & DIVERTED & 0.00164234 & 0 & 0.0 & 1 &  & 0 & Int64 \\\\\n",
       "\t20 & CRS\\_ELAPSED\\_TIME & 156.587 & 38 & 139.0 & 655 &  & 0 & Int64 \\\\\n",
       "\t21 & ACTUAL\\_ELAPSED\\_TIME & 150.252 & 28 & 131.0 & 700 &  & 133404 & Int64 \\\\\n",
       "\t22 & AIR\\_TIME & 125.108 & 12 & 106.0 & 640 &  & 133404 & Int64 \\\\\n",
       "\t23 & CARRIER\\_DELAY & 19.6409 & 0 & 1.0 & 1401 &  & 3226536 & Int64 \\\\\n",
       "\t24 & WEATHER\\_DELAY & 2.57729 & 0 & 0.0 & 1023 &  & 3226536 & Int64 \\\\\n",
       "\t25 & NAS\\_DELAY & 15.1089 & 0 & 3.0 & 995 &  & 3226536 & Int64 \\\\\n",
       "\t26 & SECURITY\\_DELAY & 0.0808066 & 0 & 0.0 & 123 &  & 3226536 & Int64 \\\\\n",
       "\t27 & LATE\\_AIRCRAFT\\_DELAY & 20.1976 & 0 & 0.0 & 1060 &  & 3226536 & Int64 \\\\\n",
       "\\end{tabular}\n"
      ],
      "text/plain": [
       "27×8 DataFrame. Omitted printing of 3 columns\n",
       "│ Row │ variable            │ mean       │ min        │ median │ max        │\n",
       "│     │ \u001b[90mSymbol\u001b[39m              │ \u001b[90mUnion…\u001b[39m     │ \u001b[90mAny\u001b[39m        │ \u001b[90mUnion…\u001b[39m │ \u001b[90mAny\u001b[39m        │\n",
       "├─────┼─────────────────────┼────────────┼────────────┼────────┼────────────┤\n",
       "│ 1   │ YEAR                │ 2017.0     │ 2017       │ 2017.0 │ 2017       │\n",
       "│ 2   │ MONTH               │ 9.0        │ 9          │ 9.0    │ 9          │\n",
       "│ 3   │ DAY_OF_MONTH        │ 15.6199    │ 1          │ 16.0   │ 30         │\n",
       "│ 4   │ DAY_OF_WEEK         │ 4.00846    │ 1          │ 4.0    │ 7          │\n",
       "│ 5   │ FL_DATE             │            │ 2017-09-01 │        │ 2017-09-30 │\n",
       "│ 6   │ OP_UNIQUE_CARRIER   │            │ AA         │        │ WN         │\n",
       "│ 7   │ TAIL_NUM            │            │ N001AA     │        │ N999DN     │\n",
       "│ 8   │ OP_CARRIER_FL_NUM   │ 1966.28    │ 1          │ 1569.0 │ 7439       │\n",
       "│ 9   │ ORIGIN              │            │ ATL        │        │ TPA        │\n",
       "│ 10  │ DEST                │            │ ABE        │        │ YUM        │\n",
       "⋮\n",
       "│ 17  │ CANCELLED           │ 0.0341574  │ 0          │ 0.0    │ 1          │\n",
       "│ 18  │ CANCELLATION_CODE   │            │ A          │        │ C          │\n",
       "│ 19  │ DIVERTED            │ 0.00164234 │ 0          │ 0.0    │ 1          │\n",
       "│ 20  │ CRS_ELAPSED_TIME    │ 156.587    │ 38         │ 139.0  │ 655        │\n",
       "│ 21  │ ACTUAL_ELAPSED_TIME │ 150.252    │ 28         │ 131.0  │ 700        │\n",
       "│ 22  │ AIR_TIME            │ 125.108    │ 12         │ 106.0  │ 640        │\n",
       "│ 23  │ CARRIER_DELAY       │ 19.6409    │ 0          │ 1.0    │ 1401       │\n",
       "│ 24  │ WEATHER_DELAY       │ 2.57729    │ 0          │ 0.0    │ 1023       │\n",
       "│ 25  │ NAS_DELAY           │ 15.1089    │ 0          │ 3.0    │ 995        │\n",
       "│ 26  │ SECURITY_DELAY      │ 0.0808066  │ 0          │ 0.0    │ 123        │\n",
       "│ 27  │ LATE_AIRCRAFT_DELAY │ 20.1976    │ 0          │ 0.0    │ 1060       │"
      ]
     },
     "execution_count": 8,
     "metadata": {},
     "output_type": "execute_result"
    }
   ],
   "source": [
    "describe(data)"
   ]
  },
  {
   "cell_type": "code",
   "execution_count": null,
   "metadata": {},
   "outputs": [],
   "source": []
  }
 ],
 "metadata": {
  "kernelspec": {
   "display_name": "Julia 1.0.2",
   "language": "julia",
   "name": "julia-1.0"
  },
  "language_info": {
   "file_extension": ".jl",
   "mimetype": "application/julia",
   "name": "julia",
   "version": "1.0.2"
  }
 },
 "nbformat": 4,
 "nbformat_minor": 2
}
